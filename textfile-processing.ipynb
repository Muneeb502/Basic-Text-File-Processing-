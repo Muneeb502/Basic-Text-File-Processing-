{
 "cells": [
  {
   "cell_type": "markdown",
   "id": "9bd6a5ff-d6e1-4a91-8804-e39a1706471a",
   "metadata": {},
   "source": [
    "# Task #4: Basic Text File Processing "
   ]
  },
  {
   "cell_type": "markdown",
   "id": "a6bc7ec0-c04f-4317-bb97-9509e3b79544",
   "metadata": {},
   "source": [
    "## 1. Reading the File:"
   ]
  },
  {
   "cell_type": "code",
   "execution_count": 15,
   "id": "e12072af-12e4-42e1-95e5-c1ea2589fba5",
   "metadata": {
    "scrolled": true
   },
   "outputs": [
    {
     "name": "stdout",
     "output_type": "stream",
     "text": [
      "The service was good and the staff was excellent. \n",
      "\n",
      "The product quality was poor. \n",
      "\n",
      "I had a good experience overall. \n",
      "\n",
      "The delivery time was bad and the packaging was poor. \n",
      "\n",
      "The support team was excellent and very helpful. \n",
      "\n",
      "The interface is good, but the performance is poor. \n",
      "\n",
      "My experience with the customer service was bad. \n",
      "\n",
      "I received excellent assistance from the support staff. \n",
      "\n",
      "The quality of the product was good, but the packaging was bad. \n",
      "\n",
      "The transaction process was excellent, and I am very satisfied. \n",
      "\n",
      "The website design is good, but the navigation is poor. \n",
      "\n",
      "The response time from the support team was excellent. \n",
      "\n",
      "The delivery was on time and the packaging was good. \n",
      "\n",
      "I had a poor experience with the customer support. \n",
      "\n",
      "The product met my expectations and the quality was good. \n",
      "\n",
      "The staff was good, but the wait time was poor. \n",
      "\n",
      "The app interface is excellent and user-friendly. \n",
      "\n",
      "I had a bad experience with the return process. \n",
      "\n",
      "The support team was good and resolved my issue quickly. \n",
      "\n",
      "The product quality was excellent and I am very happy. \n",
      "\n",
      "The delivery time was poor, but the product quality is good. \n",
      "\n",
      "I had a good experience with the customer service. \n",
      "\n",
      "The transaction was smooth and the service was excellent. \n",
      "\n",
      "The product was bad and I had to return it. \n",
      "\n",
      "The packaging was excellent and the product was undamaged. \n",
      "\n",
      "The support was bad and took too long to respond. \n",
      "\n",
      "I had a poor experience with the online ordering system. \n",
      "\n",
      "The product quality is good, but the delivery was bad. \n",
      "\n",
      "The staff was excellent and very professional. \n",
      "\n",
      "The user experience on the website is good. \n",
      "\n",
      "The product quality was excellent and I am very satisfied. \n",
      "\n",
      "The product quality was good, but the customer service was poor. \n",
      "\n",
      "The delivery was bad, but the packaging was good. \n",
      "\n",
      "The support team was excellent and resolved my issue quickly. \n",
      "\n",
      "The product was poor and did not meet my expectations. \n",
      "\n",
      "The website design is good, but the checkout process is poor. \n",
      "\n",
      "The service was excellent and very professional. \n",
      "\n",
      "The product quality was good, but the shipping was slow. \n",
      "\n",
      "The customer service was poor and unhelpful. \n",
      "\n",
      "The support team was good, but the response time was poor. \n",
      "\n",
      "The product was excellent and arrived on time. \n",
      "\n",
      "The packaging was good and the product was undamaged. \n",
      "\n",
      "The service was bad and I am very disappointed. \n",
      "\n",
      "The product quality was excellent and worth the price. \n",
      "\n",
      "The delivery was good, but the packaging was poor. \n",
      "\n",
      "The customer service was excellent and very helpful. \n",
      "\n",
      "The support team was good, but the wait time was poor. \n",
      "\n",
      "The service was excellent and very professional. The customer \n",
      "\n",
      "service was bad and unresponsive. \n",
      "\n",
      "The product was good, but the price was too high. \n",
      "\n",
      "I had an excellent experience with the support team. \n",
      "\n",
      "The product quality is poor and not as advertised. \n",
      "\n",
      "The customer service was good and resolved my issue. \n",
      "\n",
      "The delivery was bad and delayed by several days. \n",
      "\n",
      "The product was excellent and exceeded my expectations. \n",
      "\n",
      "The support team was good, but the wait time was poor. \n",
      "\n",
      "The website interface is good, but the loading time is bad. \n",
      "\n",
      "The transaction process was smooth and excellent. \n",
      "\n",
      "I had a bad experience with the product quality. \n",
      "\n",
      "The support was excellent and resolved my issue promptly. \n",
      "\n",
      "The product quality is good, but the price is high. \n",
      "\n",
      "The delivery was poor and the package was damaged. \n",
      "\n",
      "I had an excellent experience with the customer service. \n",
      "\n",
      "The product was good and as described. \n",
      "\n",
      "The staff was excellent and very helpful. \n",
      "\n",
      "The packaging was poor and the product was damaged. \n",
      "\n",
      "The support team was good and assisted me well. \n",
      "\n",
      "The quality of the product was poor and disappointing. \n",
      "\n",
      "I had a good experience with the return process. \n",
      "\n",
      "The product was excellent and arrived on time. \n",
      "\n",
      "The customer service was bad and unhelpful. \n",
      "\n",
      "The website design is excellent and very intuitive. \n",
      "\n",
      "The product was good, but the shipping was slow. \n",
      "\n",
      "I had a poor experience with the support team. \n",
      "\n",
      "The quality of the service was excellent. \n",
      "\n",
      "The product was poor and not worth the price. \n",
      "\n",
      "The delivery was excellent and very fast. \n",
      "\n",
      "The customer service was good, but the product was bad. \n",
      "\n",
      "The support team was excellent and very knowledgeable. \n",
      "\n",
      "The packaging was good, but the product was damaged. \n",
      "\n",
      "I had a good experience with the website. \n",
      "\n",
      "The delivery time was bad, but the product was good. \n",
      "\n",
      "The customer service was excellent and very responsive. \n",
      "\n",
      "The product was bad and I am very disappointed. \n",
      "\n",
      "The packaging was poor, but the product was good. \n",
      "\n",
      "The support was good, but the wait time was too long. \n",
      "\n",
      "I had an excellent experience with the service. \n",
      "\n",
      "The product was poor and I had to return it. \n",
      "\n",
      "The support team was good and assisted me well. \n",
      "\n",
      "The quality of the product was good, but the delivery was bad. \n",
      "\n",
      "The service was excellent and met my expectations. \n",
      "\n",
      "The product was good, but the support was poor. \n",
      "\n",
      "The packaging was excellent and very secure. \n",
      "\n",
      "The delivery time was poor, but the product quality was good. \n",
      "\n",
      "The customer service was good and resolved my issue quickly. \n",
      "\n",
      "The product was bad and I am very unhappy. \n",
      "\n",
      "The support team was excellent and very friendly. \n",
      "\n",
      "The quality of the product was poor and disappointing.\n"
     ]
    }
   ],
   "source": [
    "# Read a text file line by line\n",
    "with open('file.txt', 'r') as file:\n",
    "    lines = file.readlines()\n",
    "for line in lines:\n",
    "    print(line)"
   ]
  },
  {
   "cell_type": "markdown",
   "id": "57a5ac42-ef81-43c6-9385-6250c44e0d08",
   "metadata": {},
   "source": [
    "## 2. Counting Feedback Entries:"
   ]
  },
  {
   "cell_type": "code",
   "execution_count": 18,
   "id": "16ae05ff-4b30-4ce3-9d92-da14a45c9d73",
   "metadata": {},
   "outputs": [
    {
     "name": "stdout",
     "output_type": "stream",
     "text": [
      "total feedbacks are = 98\n"
     ]
    }
   ],
   "source": [
    "print(\"total feedbacks are =\",len(lines))"
   ]
  },
  {
   "cell_type": "markdown",
   "id": "3f3aab70-768e-425f-a9df-d773c9e751e2",
   "metadata": {},
   "source": [
    "## 3. Extracting Keywords: "
   ]
  },
  {
   "cell_type": "markdown",
   "id": "d1363aab-15ea-4330-9c92-b2c7f750d5f5",
   "metadata": {},
   "source": [
    " keywords like \"good\", \"bad\", \"excellent\", \"poor\",\"product\",\"satisfied\",\"quickly\",\"undamaged\",\"price\",\"helpful\",\"fast\",\"disappointed\",\"long\",\"damaged\",\"experience\",\"customer\",\"support\",\"packaging\",\"delivery\""
   ]
  },
  {
   "cell_type": "markdown",
   "id": "a0ce8c6d-698c-4f52-b284-a41265ec2e4b",
   "metadata": {},
   "source": [
    "## 4. Counting Keyword Occurrences: "
   ]
  },
  {
   "cell_type": "markdown",
   "id": "aa4107eb-1e5b-46c4-bca7-12f2afac8cbb",
   "metadata": {},
   "source": [
    "## 5. Generating a Summary Report:"
   ]
  },
  {
   "cell_type": "markdown",
   "id": "a9750c86-ae8c-4a04-a498-fcb61d6378fd",
   "metadata": {},
   "source": [
    "## 6. Saving the Report: "
   ]
  },
  {
   "cell_type": "code",
   "execution_count": null,
   "id": "d5a94de9-e275-41a5-a1d7-5517dc6246c5",
   "metadata": {},
   "outputs": [],
   "source": []
  }
 ],
 "metadata": {
  "kernelspec": {
   "display_name": "Python 3 (ipykernel)",
   "language": "python",
   "name": "python3"
  },
  "language_info": {
   "codemirror_mode": {
    "name": "ipython",
    "version": 3
   },
   "file_extension": ".py",
   "mimetype": "text/x-python",
   "name": "python",
   "nbconvert_exporter": "python",
   "pygments_lexer": "ipython3",
   "version": "3.12.4"
  }
 },
 "nbformat": 4,
 "nbformat_minor": 5
}
